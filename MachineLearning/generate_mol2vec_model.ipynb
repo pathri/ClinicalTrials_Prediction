{
 "cells": [
  {
   "cell_type": "markdown",
   "id": "5f75a9dd",
   "metadata": {},
   "source": [
    "### A snippet used to fine-tune a pretrained mol2vec model on Drugbank corpus. \n",
    "For more details, please refer mol2vec on [GitHub](https://github.com/samoturk/mol2vec)"
   ]
  },
  {
   "cell_type": "code",
   "execution_count": null,
   "id": "af6b5f84",
   "metadata": {},
   "outputs": [],
   "source": [
    "from gensim.models import word2vec\n",
    "corpus=[]\n",
    "with open('mols.cp', 'r') as f:\n",
    "    for i, line in enumerate(f):\n",
    "        corpus.append(line)\n",
    "model = word2vec.Word2Vec.load('../model_300dim.pkl')\n",
    "model.train(corpus, total_examples=len(corpus), epochs=10)\n",
    "model.save('../updatedmodel.pkl')"
   ]
  }
 ],
 "metadata": {
  "kernelspec": {
   "display_name": "Python 3",
   "language": "python",
   "name": "python3"
  },
  "language_info": {
   "codemirror_mode": {
    "name": "ipython",
    "version": 3
   },
   "file_extension": ".py",
   "mimetype": "text/x-python",
   "name": "python",
   "nbconvert_exporter": "python",
   "pygments_lexer": "ipython3",
   "version": "3.9.2"
  }
 },
 "nbformat": 4,
 "nbformat_minor": 5
}
