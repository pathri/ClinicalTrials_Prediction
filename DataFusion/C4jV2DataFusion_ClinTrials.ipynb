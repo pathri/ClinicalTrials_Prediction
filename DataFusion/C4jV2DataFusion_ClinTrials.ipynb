{
 "cells": [
  {
   "cell_type": "code",
   "execution_count": 96,
   "metadata": {},
   "outputs": [
    {
     "name": "stdout",
     "output_type": "stream",
     "text": [
      "start time 2020-10-19 22:57:51.897734+05:30\n",
      "---------------------------------\n"
     ]
    }
   ],
   "source": [
    "from datetime import datetime \n",
    "import pytz \n",
    "  \n",
    "IST = pytz.timezone('Asia/Kolkata') \n",
    "print(\"start time\", datetime.now(IST)) \n",
    "print(\"---------------------------------\")"
   ]
  },
  {
   "cell_type": "code",
   "execution_count": 97,
   "metadata": {},
   "outputs": [],
   "source": [
    "import pandas as pd\n",
    "import csv as csv"
   ]
  },
  {
   "cell_type": "code",
   "execution_count": 98,
   "metadata": {},
   "outputs": [],
   "source": [
    "listAllMatches=[]"
   ]
  },
  {
   "cell_type": "code",
   "execution_count": 99,
   "metadata": {},
   "outputs": [
    {
     "name": "stdout",
     "output_type": "stream",
     "text": [
      "name\n",
      "total columns 56\n",
      "total records in column 13580\n",
      "13580\n",
      "13580\n",
      "DB00001\n"
     ]
    }
   ],
   "source": [
    "# Parsing drugbank related CSV files and extracting information\n",
    "import pandas as pd\n",
    "dfDB =pd.read_csv('drugbank_drug.tsv',delimiter='\\t',encoding='utf-8')\n",
    "\n",
    "print(dfDB.columns[2]) #2=name\n",
    "print(\"total columns\", len(dfDB.columns))\n",
    "\n",
    "listNames_DB=[]\n",
    "listIds_DB=[]\n",
    "listExactMatchNames_DBCT=[]\n",
    "\n",
    "\n",
    "listNames_DB=[x.lower() for x in dfDB[dfDB.columns[2].lower()]]\n",
    "listIds_DB=[x for x in dfDB[dfDB.columns[0]]]\n",
    "\n",
    "print(\"total records in column\", len(dfDB[dfDB.columns[2]]))                    \n",
    "print(len(listNames_DB))\n",
    "print(len(listIds_DB))\n",
    "print(listIds_DB[0])"
   ]
  },
  {
   "cell_type": "code",
   "execution_count": 100,
   "metadata": {},
   "outputs": [
    {
     "name": "stdout",
     "output_type": "stream",
     "text": [
      "drug_name\n",
      "total columns 6\n",
      "total records in column 16630\n",
      "16630\n"
     ]
    }
   ],
   "source": [
    "# Parsing ClinicalTrails related CSV files and extracting information\n",
    "import pandas as pd\n",
    "dfCT =pd.read_csv('/sas/vidhya/CompoundDb4jV2/ClinicalTrials/AllTables_CSV/fda_applications.csv',delimiter=',',encoding='utf-8')\n",
    "\n",
    "print(dfCT.columns[2]) #2=drug_ame\n",
    "print(\"total columns\", len(dfCT.columns))\n",
    "\n",
    "listNames_CT=[]\n",
    "\n",
    "listNamesMatching_CT=[]\n",
    "#print(dfCT[dfCT.columns[2]][0])\n",
    "for x in dfCT[dfCT.columns[2]]:\n",
    "    x=str(x)\n",
    "    xnew = x.lower()\n",
    "    listNames_CT.append(xnew)\n",
    "    #break\n",
    "\n",
    "\n",
    "print(\"total records in column\", len(dfCT[dfCT.columns[2]]))                    \n",
    "print(len(listNames_CT))"
   ]
  },
  {
   "cell_type": "code",
   "execution_count": 8,
   "metadata": {},
   "outputs": [
    {
     "ename": "NameError",
     "evalue": "name 'csv' is not defined",
     "output_type": "error",
     "traceback": [
      "\u001b[0;31m---------------------------------------------------------------------------\u001b[0m",
      "\u001b[0;31mNameError\u001b[0m                                 Traceback (most recent call last)",
      "\u001b[0;32m<ipython-input-8-01a5004e24c7>\u001b[0m in \u001b[0;36m<module>\u001b[0;34m\u001b[0m\n\u001b[1;32m      5\u001b[0m \u001b[0;31m#write matches to csv file\u001b[0m\u001b[0;34m\u001b[0m\u001b[0;34m\u001b[0m\u001b[0;34m\u001b[0m\u001b[0m\n\u001b[1;32m      6\u001b[0m \u001b[0;32mwith\u001b[0m \u001b[0mopen\u001b[0m\u001b[0;34m(\u001b[0m\u001b[0;34m\"/sas/vidhya/CompoundDb4jV2/ClinicalTrials/MLData/outmatches_names_DB_T_ML.tsv\"\u001b[0m\u001b[0;34m,\u001b[0m\u001b[0;34m'w'\u001b[0m\u001b[0;34m)\u001b[0m \u001b[0;32mas\u001b[0m \u001b[0moutcsv2\u001b[0m\u001b[0;34m:\u001b[0m\u001b[0;34m\u001b[0m\u001b[0;34m\u001b[0m\u001b[0m\n\u001b[0;32m----> 7\u001b[0;31m     \u001b[0mwriter2\u001b[0m\u001b[0;34m=\u001b[0m\u001b[0mcsv\u001b[0m\u001b[0;34m.\u001b[0m\u001b[0mwriter\u001b[0m\u001b[0;34m(\u001b[0m\u001b[0moutcsv2\u001b[0m\u001b[0;34m,\u001b[0m\u001b[0mdelimiter\u001b[0m\u001b[0;34m=\u001b[0m\u001b[0;34m'\\t'\u001b[0m\u001b[0;34m,\u001b[0m\u001b[0mquotechar\u001b[0m\u001b[0;34m=\u001b[0m\u001b[0;34m'|'\u001b[0m\u001b[0;34m,\u001b[0m\u001b[0mquoting\u001b[0m\u001b[0;34m=\u001b[0m\u001b[0mcsv\u001b[0m\u001b[0;34m.\u001b[0m\u001b[0mQUOTE_MINIMAL\u001b[0m\u001b[0;34m,\u001b[0m\u001b[0mlineterminator\u001b[0m\u001b[0;34m=\u001b[0m\u001b[0;34m'\\n'\u001b[0m\u001b[0;34m)\u001b[0m\u001b[0;34m\u001b[0m\u001b[0;34m\u001b[0m\u001b[0m\n\u001b[0m\u001b[1;32m      8\u001b[0m \u001b[0;34m\u001b[0m\u001b[0m\n\u001b[1;32m      9\u001b[0m     \u001b[0;32mfor\u001b[0m \u001b[0midx\u001b[0m\u001b[0;34m,\u001b[0m \u001b[0mitem\u001b[0m \u001b[0;32min\u001b[0m \u001b[0menumerate\u001b[0m\u001b[0;34m(\u001b[0m\u001b[0mlistNames_DB\u001b[0m\u001b[0;34m)\u001b[0m\u001b[0;34m:\u001b[0m\u001b[0;34m\u001b[0m\u001b[0;34m\u001b[0m\u001b[0m\n",
      "\u001b[0;31mNameError\u001b[0m: name 'csv' is not defined"
     ]
    }
   ],
   "source": [
    "# find common based on names between DrugBank and ClinicalTrails\n",
    "count=0\n",
    "listExactMatchNames_DBCT=[]\n",
    "listExactMatchNames_DBID_DBCT=[]\n",
    "\n",
    "#write matches to csv file\n",
    "with open(\"outmatches_names_DB_CT.tsv\",'w') as outcsv2: \n",
    "    writer2=csv.writer(outcsv2,delimiter='\\t',quotechar='|',quoting=csv.QUOTE_MINIMAL,lineterminator='\\n') \n",
    "    \n",
    "    for idx, item in enumerate(listNames_DB):     \n",
    "        count=count+1 \n",
    "        #with open(\"DBAllNamesoutfile.txt\", \"w\") as outfile:\n",
    "            #outfile.write(\"\\n\".join(str(item) for item in listNames_DB))\n",
    "        if item != 'nan' :        \n",
    "   \n",
    "            for itemCT in listNames_CT:\n",
    "                if itemCT != 'nan' :               \n",
    "\n",
    "                    if item == itemCT :            \n",
    "                        listExactMatchNames_DBCT.append(item)\n",
    "                        DBID=listIds_DB[idx]\n",
    "                        listExactMatchNames_DBID_DBCT.append(DBID)\n",
    "                        listAllMatches.append([DBID,itemCT])\n",
    "                        writer2.writerow([DBID, item, itemCT ])\n",
    "                \n",
    "    print(\"total matched records based on names\", len(listExactMatchNames_DBCT))\n",
    "    print(\"total matched records based on names\", len(listExactMatchNames_DBID_DBCT))\n",
    "    print(listExactMatchNames_DBID_DBCT[0])\n",
    "\n",
    "\n",
    "    \n"
   ]
  },
  {
   "cell_type": "code",
   "execution_count": 102,
   "metadata": {},
   "outputs": [
    {
     "name": "stdout",
     "output_type": "stream",
     "text": [
      "synonyms\n",
      "total 13580\n",
      "13580\n",
      "ith1_hirme||lepirudin recombinant||hirudin variant-1\n"
     ]
    }
   ],
   "source": [
    "### find common based on synonmys  between DB and trials\n",
    "print(dfDB.columns[29]) \n",
    "listsynonyms_DB=[]\n",
    "\n",
    "listsynonyms_DB=[str(x).lower() for x in dfDB[dfDB.columns[29]]]\n",
    "\n",
    "print(\"total\",len(dfDB[dfDB.columns[29]]))                    \n",
    "print(len(listsynonyms_DB))\n",
    "print(listsynonyms_DB[0])"
   ]
  },
  {
   "cell_type": "code",
   "execution_count": 103,
   "metadata": {},
   "outputs": [
    {
     "name": "stdout",
     "output_type": "stream",
     "text": [
      "['ith1_hirme', 'lepirudin recombinant', 'hirudin variant-1']\n",
      "<class 'list'>\n"
     ]
    }
   ],
   "source": [
    "for idx, itemSynonym in enumerate(listsynonyms_DB):\n",
    "    if itemSynonym != 'nan' :\n",
    "        allSynonyms= itemSynonym.split('||')\n",
    "        print(allSynonyms)\n",
    "        print(type(allSynonyms))\n",
    "        break"
   ]
  },
  {
   "cell_type": "code",
   "execution_count": 104,
   "metadata": {},
   "outputs": [
    {
     "name": "stdout",
     "output_type": "stream",
     "text": [
      "4508\n",
      "total matched records based on synonyms 4508\n",
      "DB00442\n"
     ]
    }
   ],
   "source": [
    "count=0\n",
    "listExactMatchSynonyms_DBCT=[]\n",
    "listExactMatchSynonyms_DBID_DBCT=[]\n",
    "\n",
    "\n",
    "#write matches to csv file\n",
    "with open(\"outmatches_synonyms_DB_CT.tsv\",'w') as outcsv2: \n",
    "    writer2=csv.writer(outcsv2,delimiter='\\t',quotechar='|',quoting=csv.QUOTE_MINIMAL,lineterminator='\\n') \n",
    "\n",
    "    for item in listNames_CT:\n",
    "        if item != \"nan\":   \n",
    "            for idx, itemSynonym in enumerate(listsynonyms_DB):\n",
    "                if itemSynonym != 'nan' :\n",
    "                    listAllSynonyms= itemSynonym.split('||')\n",
    "                     \n",
    "                    for index, synonym in enumerate(listAllSynonyms):\n",
    "                        if item == str(synonym) :\n",
    "                            listExactMatchSynonyms_DBCT.append(item)\n",
    "                            DBID=listIds_DB[idx]\n",
    "                            listExactMatchSynonyms_DBID_DBCT.append(DBID)\n",
    "                            listAllMatches.append([DBID,item])\n",
    "                            writer2.writerow([DBID, synonym, item ])\n",
    "                            break\n",
    "      \n",
    "            \n",
    "                 \n",
    "    print(len(listExactMatchSynonyms_DBCT))\n",
    "    print(\"total matched records based on synonyms\", len(listExactMatchSynonyms_DBID_DBCT))\n",
    "    print(listExactMatchSynonyms_DBID_DBCT[0])"
   ]
  },
  {
   "cell_type": "code",
   "execution_count": 105,
   "metadata": {
    "scrolled": true
   },
   "outputs": [
    {
     "name": "stdout",
     "output_type": "stream",
     "text": [
      "Index(['drugbank_id', 'alternative_drugbank_ids', 'name', 'cas_number', 'unii',\n",
      "       'state', 'groups', 'general_references_links_reference_id_title_url',\n",
      "       'general_references_attachment_reference_id_title_url',\n",
      "       'general_references_textbooks_reference_id_isbn_citation',\n",
      "       'general_references_articles_reference_id_pubmed_citation',\n",
      "       'synthesis_reference', 'indication', 'pharmacodynamics',\n",
      "       'mechanism_of_action', 'toxicity', 'metabolism', 'absorption',\n",
      "       'half_life', 'protein_binding', 'route_of_elimination',\n",
      "       'volume_of_distribution', 'clearance', 'classification_subclass',\n",
      "       'classification_class', 'classification_superclass',\n",
      "       'classification_kingdom', 'classification_direct_parent',\n",
      "       'classification_description', 'synonyms',\n",
      "       'international_brands_name_company', 'mixtures_name_ingredients',\n",
      "       'packagers_name_url', 'manufacturers', 'prices_description_cost_unit',\n",
      "       'affected_organisms', 'dosages_form_route_strength', 'atc_code_levels',\n",
      "       'ahfs_codes', 'pdb_entries', 'fda_label', 'msds',\n",
      "       'patents_number_country_approved_expires_pediatric_extension',\n",
      "       'food_interaction', 'sequences',\n",
      "       'calculated_properties_kind_value_source',\n",
      "       'experimental_properties_kind_value_source', 'external_identifiers',\n",
      "       'external_links_resource_url', 'type',\n",
      "       'classification_alternative_parent', 'classification_substituent',\n",
      "       'inchi', 'inchikey', 'description', 'ChEMBL'],\n",
      "      dtype='object')\n"
     ]
    }
   ],
   "source": [
    "print(dfDB.columns)"
   ]
  },
  {
   "cell_type": "code",
   "execution_count": 106,
   "metadata": {},
   "outputs": [
    {
     "name": "stdout",
     "output_type": "stream",
     "text": [
      "international_brands_name_company\n",
      "total 13580\n",
      "13580\n",
      "viscozyme::roche (chile)\n",
      "383\n",
      "total matched records based on international_brands_name_company 383\n",
      "DB00010\n"
     ]
    }
   ],
   "source": [
    "### find common based on international_brands_name_company  between DB and trials\n",
    "print(dfDB.columns[30]) \n",
    "listIntlBrands_DB=[]\n",
    "\n",
    "listIntlBrands_DB=[str(x).lower() for x in dfDB[dfDB.columns[30]]]\n",
    "\n",
    "print(\"total\",len(dfDB[dfDB.columns[30]]))                    \n",
    "print(len(listIntlBrands_DB))\n",
    "print(listIntlBrands_DB[2])\n",
    "\n",
    "listExactMatchIntlBrands_DBCT=[]\n",
    "listExactMatchIntlBrands_DBID_DBCT=[]\n",
    "\n",
    "\n",
    "#write matches to csv file\n",
    "with open(\"outmatches_intnlbrands_DB_CT.tsv\",'w') as outcsv2: \n",
    "    writer2=csv.writer(outcsv2,delimiter='\\t',quotechar='|',quoting=csv.QUOTE_MINIMAL,lineterminator='\\n') \n",
    "    \n",
    "    for idx, itemIntlBrand in enumerate(listIntlBrands_DB):\n",
    "        \n",
    "        if itemIntlBrand != \"nan\" or itemIntlBrand != '':\n",
    "            listAllBrandNames=[]\n",
    "            #chk for || \n",
    "            if '||' in itemIntlBrand:\n",
    "                listAllNames1= itemIntlBrand.split('||')\n",
    "                for Names1 in listAllNames1:\n",
    "                    if '::' in Names1:\n",
    "                        listAllNames2=Names1.split('::')\n",
    "                        for Names2 in listAllNames2:\n",
    "                            listAllBrandNames.append(Names2)\n",
    "                    else:                             \n",
    "                        listAllBrandNames.append(Names1)\n",
    "            else:\n",
    "                if '::' in itemIntlBrand:\n",
    "                    listAllNames2=itemIntlBrand.split('::')\n",
    "                    for Names2 in listAllNames2:\n",
    "                        listAllBrandNames.append(Names2)\n",
    "                else:                             \n",
    "                    listAllBrandNames.append(itemIntlBrand)\n",
    "                \n",
    "                        \n",
    "                    \n",
    "            for itemBrandName in listAllBrandNames:\n",
    "                for item in listNames_CT:\n",
    "                    if item != \"nan\" :                \n",
    "                        if item == itemBrandName :\n",
    "                            #print(\"itemBrandName\",itemDescName)\n",
    "                            listExactMatchIntlBrands_DBCT.append(item)\n",
    "                            DBID=listIds_DB[idx]\n",
    "                            listExactMatchIntlBrands_DBID_DBCT.append(DBID)\n",
    "                            listAllMatches.append([DBID,item])\n",
    "                            writer2.writerow([DBID, itemBrandName, item ])                    \n",
    "                            break\n",
    "                \n",
    "                    \n",
    "                    \n",
    "    print(len(listExactMatchIntlBrands_DBCT))\n",
    "    print(\"total matched records based on international_brands_name_company\", len(listExactMatchIntlBrands_DBID_DBCT))\n",
    "    print(listExactMatchIntlBrands_DBID_DBCT[0])"
   ]
  },
  {
   "cell_type": "code",
   "execution_count": 133,
   "metadata": {},
   "outputs": [
    {
     "name": "stdout",
     "output_type": "stream",
     "text": [
      "prices_description_cost_unit\n",
      "total 13580\n",
      "13580\n",
      "refludan 50 mg vial::usd:273.19::vial\n"
     ]
    }
   ],
   "source": [
    "### find common based on prescription name  between DB and trials\n",
    "print(dfDB.columns[34]) \n",
    "listDescription_DB=[]\n",
    "listExactMatchDescription_DBCT=[]\n",
    "listExactMatchDescription_DBID_DBCT=[]\n",
    "\n",
    "listDescription_DB=[str(x).lower() for x in dfDB[dfDB.columns[34]]]\n",
    "\n",
    "print(\"total\",len(dfDB[dfDB.columns[34]]))                    \n",
    "print(len(listDescription_DB))\n",
    "print(listDescription_DB[0])\n"
   ]
  },
  {
   "cell_type": "code",
   "execution_count": 134,
   "metadata": {},
   "outputs": [
    {
     "name": "stdout",
     "output_type": "stream",
     "text": [
      "ampicillin and sulbactam\n"
     ]
    }
   ],
   "source": [
    "print(listNames_CT[0])"
   ]
  },
  {
   "cell_type": "code",
   "execution_count": 135,
   "metadata": {},
   "outputs": [
    {
     "name": "stdout",
     "output_type": "stream",
     "text": [
      "6\n",
      "6\n"
     ]
    }
   ],
   "source": [
    "# Find common based on description between DrugBank and ClinicalTrails\n",
    "count=0\n",
    "listExactMatchDescription_DBCT=[]\n",
    "listExactMatchDescription_DBID_DBCT=[]\n",
    "\n",
    "#write matches to csv file\n",
    "with open(\"outmatches_description_DB_CT.tsv\",'w') as outcsv2: \n",
    "    writer2=csv.writer(outcsv2,delimiter='\\t',quotechar='|',quoting=csv.QUOTE_MINIMAL,lineterminator='\\n') \n",
    "    \n",
    "    for idx, itemDesc in enumerate(listDescription_DB):\n",
    "        if itemDesc != \"nan\" or itemDesc != '':\n",
    "            listAllDescNames=[]\n",
    "           \n",
    "             #chk for || \n",
    "            if '||' in itemDesc:\n",
    "                listAllNames1= itemDesc.split('||')\n",
    "                for Names1 in listAllNames1:\n",
    "                    if '::' in Names1:\n",
    "                        listAllNames2=Names1.split('::')\n",
    "                        for Names2 in listAllNames2:\n",
    "                            listAllDescNames.append(Names2)\n",
    "                    else:                             \n",
    "                        listAllDescNames.append(Names1)\n",
    "            else:\n",
    "                if '::' in itemDesc:\n",
    "                    listAllNames2=itemDesc.split('::')\n",
    "                    for Names2 in listAllNames2:\n",
    "                        listAllDescNames.append(Names2)\n",
    "                else:                             \n",
    "                    listAllDescNames.append(itemDesc)\n",
    "                    \n",
    "            for itemDescName in listAllDescNames:\n",
    "                for item in listNames_CT:\n",
    "                    if item != \"nan\" :                \n",
    "                        if item == itemDescName :\n",
    "                            listExactMatchDescription_DBCT.append(item)\n",
    "                            DBID=listIds_DB[idx]\n",
    "                            listExactMatchDescription_DBID_DBCT.append(DBID)\n",
    "                            listAllMatches.append([DBID,item])\n",
    "                            writer2.writerow([DBID, itemDescName, item ])                    \n",
    "                            break\n",
    "                \n",
    "                    \n",
    "\n",
    "                    \n",
    "    print(len(listExactMatchDescription_DBCT))\n",
    "    print(len(listExactMatchDescription_DBID_DBCT))"
   ]
  },
  {
   "cell_type": "code",
   "execution_count": 110,
   "metadata": {},
   "outputs": [
    {
     "data": {
      "text/plain": [
       "'\\nprint(dfDB.columns[31]) \\nlistMixtures_DB=[]\\nlistExactMatchMixtures_DB_DBCT=[]\\nlistExactMatchMixtures_DBID_DBCT=[]\\n\\nlistMixtures_DB=[str(x).lower() for x in dfDB[dfDB.columns[31]]]\\n\\nprint(\"total\",len(dfDB[dfDB.columns[31]]))                    \\nprint(len(listMixtures_DB))\\nprint(listMixtures_DB[0])\\n'"
      ]
     },
     "execution_count": 110,
     "metadata": {},
     "output_type": "execute_result"
    }
   ],
   "source": [
    "### find common based on mixtures  between DB and trials\n",
    "### TBD not to be used as this contains combination of one or more drugs\n",
    "'''\n",
    "print(dfDB.columns[31]) \n",
    "listMixtures_DB=[]\n",
    "listExactMatchMixtures_DB_DBCT=[]\n",
    "listExactMatchMixtures_DBID_DBCT=[]\n",
    "\n",
    "listMixtures_DB=[str(x).lower() for x in dfDB[dfDB.columns[31]]]\n",
    "\n",
    "print(\"total\",len(dfDB[dfDB.columns[31]]))                    \n",
    "print(len(listMixtures_DB))\n",
    "print(listMixtures_DB[0])\n",
    "'''"
   ]
  },
  {
   "cell_type": "code",
   "execution_count": 111,
   "metadata": {},
   "outputs": [
    {
     "data": {
      "text/plain": [
       "'\\ncount=0\\nlistExactMatchMixtures_DBCT=[]\\nlistExactMatchMixtures_DBID_DBCT=[]\\nfor idx, itemDesc in enumerate(listMixtures_DB):\\n    if itemDesc is None or pd.isnull(itemDesc) or len(itemDesc) == 0:\\n        continue\\n    count=count+1  \\n    for item in listNames_CT:\\n        if item in str(itemDesc) :\\n            listExactMatchMixtures_DBCT.append(item)\\n            DBID=listIds_DB[idx]\\n            listExactMatchMixtures_DBID_DBCT.append(DBID)\\n            listAllMatches.append([DBID,item])\\n\\n            break\\nprint(len(listExactMatchMixtures_DBCT))\\nprint(len(listExactMatchMixtures_DBID_DBCT))\\nprint(listExactMatchMixtures_DBID_DBCT[8])\\n'"
      ]
     },
     "execution_count": 111,
     "metadata": {},
     "output_type": "execute_result"
    }
   ],
   "source": [
    "'''\n",
    "count=0\n",
    "listExactMatchMixtures_DBCT=[]\n",
    "listExactMatchMixtures_DBID_DBCT=[]\n",
    "for idx, itemDesc in enumerate(listMixtures_DB):\n",
    "    if itemDesc is None or pd.isnull(itemDesc) or len(itemDesc) == 0:\n",
    "        continue\n",
    "    count=count+1  \n",
    "    for item in listNames_CT:\n",
    "        if item in str(itemDesc) :\n",
    "            listExactMatchMixtures_DBCT.append(item)\n",
    "            DBID=listIds_DB[idx]\n",
    "            listExactMatchMixtures_DBID_DBCT.append(DBID)\n",
    "            listAllMatches.append([DBID,item])\n",
    "\n",
    "            break\n",
    "print(len(listExactMatchMixtures_DBCT))\n",
    "print(len(listExactMatchMixtures_DBID_DBCT))\n",
    "print(listExactMatchMixtures_DBID_DBCT[8])\n",
    "'''"
   ]
  },
  {
   "cell_type": "code",
   "execution_count": 112,
   "metadata": {},
   "outputs": [
    {
     "name": "stdout",
     "output_type": "stream",
     "text": [
      "name\n",
      "total columns 7\n",
      "total records - salts in column 2277\n",
      "2277\n",
      "2277\n",
      "DBSALT000105\n",
      "leuprolide acetate\n",
      "total matched records based on salt names 433\n",
      "total matched records based on salt names 433\n",
      "leuprolide acetate\n"
     ]
    }
   ],
   "source": [
    "#match based on partial name drugbank (like db:procainamide ct:procainamide hydrochloride)\n",
    "'''\n",
    "count=0\n",
    "listExactMatchPNames_DBCT=[]\n",
    "listExactMatchPNames_DBID_DBCT=[]\n",
    "for idx, item in enumerate(listNames_DB):     \n",
    "    count=count+1 \n",
    "    for itemCT in listNames_CT:\n",
    "       # if 'procainamide' in itemCT:\n",
    "           # print(\"itemCT\",itemCT)\n",
    "        if item in itemCT:\n",
    "            listExactMatchPNames_DBCT.append(item)\n",
    "            DBID=listIds_DB[idx]\n",
    "            listExactMatchPNames_DBID_DBCT.append(DBID)  \n",
    "            listAllMatches.append([DBID,itemCT])\n",
    "\n",
    "        \n",
    "print(\"total matched records based on partial names\", len(listExactMatchPNames_DBCT))\n",
    "print(\"total matched records based on partial names\", len(listExactMatchPNames_DBID_DBCT))\n",
    "print(listExactMatchPNames_DBID_DBCT[0])\n",
    "'''\n",
    "\n",
    "#change to salts as partial name match is not correct for all cases\n",
    "### find common based on name between salts  DB and chembl  and write to csv \n",
    "import pandas as pd\n",
    "dfDBSalt =pd.read_csv('drugbank_salt.tsv',delimiter='\\t',encoding='utf-8')\n",
    "\n",
    "print(dfDBSalt.columns[1]) #2=name\n",
    "print(\"total columns\", len(dfDBSalt.columns))\n",
    "\n",
    "listNames_DBSalts=[]\n",
    "listIds_DBSalts=[]\n",
    "\n",
    "\n",
    "listNamesSalt_DB=[x.lower() for x in dfDBSalt[dfDBSalt.columns[1].lower()]]\n",
    "listIdsSalt_DB=[x for x in dfDBSalt[dfDBSalt.columns[0]]]\n",
    "\n",
    "print(\"total records - salts in column\", len(dfDBSalt[dfDBSalt.columns[2]]))                    \n",
    "print(len(listNamesSalt_DB))\n",
    "print(len(listIdsSalt_DB))\n",
    "print(listIdsSalt_DB[0])\n",
    "print(listNamesSalt_DB[0])\n",
    "\n",
    "count=0\n",
    "listExactMatchSaltNames_DBCT=[]\n",
    "listExactMatchSaltNames_DBID_DBCT=[]\n",
    "\n",
    "with open(\"outmatches_names_salts_DB_CT.tsv\",'w') as outcsv2: \n",
    "    writer2=csv.writer(outcsv2,delimiter='\\t',quotechar='|',quoting=csv.QUOTE_MINIMAL,lineterminator='\\n') \n",
    "    \n",
    "    for idx, item in enumerate(listNamesSalt_DB):  \n",
    "        if item is None or pd.isnull(item) or len(item) == 0 or  str(item) == 'nan' :\n",
    "            continue                \n",
    "        \n",
    "        for itemCT in listNames_CT:\n",
    "           # if 'procainamide' in itemCT:\n",
    "               # print(\"itemCT\",itemCT)\n",
    "            if itemCT is None or pd.isnull(itemCT) or len(itemCT) == 0 or  str(itemCT) == 'nan' :\n",
    "                continue\n",
    "                \n",
    "            if item == itemCT:\n",
    "                listExactMatchSaltNames_DBCT.append(item)\n",
    "                DBID=listIdsSalt_DB[idx]\n",
    "                listExactMatchSaltNames_DBID_DBCT.append(DBID)  \n",
    "                listAllMatches.append([DBID,itemCT])\n",
    "                writer2.writerow([DBID,item, itemCT ])\n",
    "                break\n",
    "        \n",
    "    print(\"total matched records based on salt names\", len(listExactMatchSaltNames_DBCT))\n",
    "    print(\"total matched records based on salt names\", len(listExactMatchSaltNames_DBID_DBCT))\n",
    "    print(listExactMatchSaltNames_DBCT[0])"
   ]
  },
  {
   "cell_type": "code",
   "execution_count": 113,
   "metadata": {},
   "outputs": [
    {
     "name": "stdout",
     "output_type": "stream",
     "text": [
      "name\n",
      "total columns 19\n",
      "total records - products in column 233087\n",
      "233087\n",
      "233087\n",
      "EU/1/97/035/001\n",
      "refludan\n",
      "total matched records based on product names 81990\n",
      "total matched records based on product names 81990\n",
      "EU/1/97/035/001\n"
     ]
    }
   ],
   "source": [
    "### find common based on name between product db and trials, write to csv \n",
    "import pandas as pd\n",
    "dfDBProd =pd.read_csv('drugbank_products.tsv',delimiter='\\t',encoding='utf-8')\n",
    "\n",
    "print(dfDBProd.columns[1]) #2=name\n",
    "print(\"total columns\", len(dfDBProd.columns))\n",
    "\n",
    "listNames_DBProd=[]\n",
    "listIds_DBProd=[]\n",
    "listExactMatchNames_DBProdCT=[]\n",
    "\n",
    "\n",
    "listNamesProd_DB=[x.lower() for x in dfDBProd[dfDBProd.columns[1].lower()]]\n",
    "listIdsProd_DB=[x for x in dfDBProd[dfDBProd.columns[0]]]\n",
    "\n",
    "print(\"total records - products in column\", len(dfDBProd[dfDBProd.columns[2]]))                    \n",
    "print(len(listNamesProd_DB))\n",
    "print(len(listIdsProd_DB))\n",
    "print(listIdsProd_DB[0])\n",
    "print(listNamesProd_DB[0])\n",
    "\n",
    "count=0\n",
    "listExactMatchProdNames_DBCT=[]\n",
    "listExactMatchProdNames_DBID_DBCT=[]\n",
    "\n",
    "with open(\"outmatches_names_products_DB_CT.tsv\",'w') as outcsv2: \n",
    "    writer2=csv.writer(outcsv2,delimiter='\\t',quotechar='|',quoting=csv.QUOTE_MINIMAL,lineterminator='\\n') \n",
    "    \n",
    "    for idx, item in enumerate(listNamesProd_DB):  \n",
    "        if item is None or pd.isnull(item) or len(item) == 0 or  str(item) == 'nan' :\n",
    "            continue                \n",
    "        \n",
    "        for itemCT in listNames_CT:\n",
    "           # if 'procainamide' in itemCT:\n",
    "               # print(\"itemCT\",itemCT)\n",
    "            if itemCT is None or pd.isnull(itemCT) or len(itemCT) == 0 or  str(itemCT) == 'nan' :\n",
    "                continue\n",
    "                \n",
    "            if item == itemCT:\n",
    "                listExactMatchProdNames_DBCT.append(item)\n",
    "                DBID=listIdsProd_DB[idx]\n",
    "                listExactMatchProdNames_DBID_DBCT.append(DBID)  \n",
    "                listAllMatches.append([DBID,itemCT])\n",
    "                writer2.writerow([DBID,item, itemCT ])\n",
    "                break\n",
    "\n",
    "        \n",
    "    print(\"total matched records based on product names\", len(listExactMatchProdNames_DBCT))\n",
    "    print(\"total matched records based on product names\", len(listExactMatchProdNames_DBID_DBCT))\n",
    "    print(listExactMatchProdNames_DBID_DBCT[0])"
   ]
  },
  {
   "cell_type": "code",
   "execution_count": 114,
   "metadata": {},
   "outputs": [
    {
     "data": {
      "text/plain": [
       "'\\nwith open(\"outmatches_names_partial_DB_CT.tsv\",\\'w\\') as outcsv2: \\n    writer2=csv.writer(outcsv2,delimiter=\\'\\t\\',quotechar=\\'|\\',quoting=csv.QUOTE_MINIMAL,lineterminator=\\'\\n\\') \\n    for idx, item in enumerate(listNames_DB):\\n        if item != \\'nan\\' :\\n        \\n    \\n            for itemCT in listNames_CT:\\n                if itemCT != \\'nan\\' :\\n           \\n                    if item in itemCT:\\n                        listExactMatchPNames2_DBCT.append(item)\\n                        DBID=listIds_DB[idx]\\n                        listExactMatchPNames2_DBID_DBCT.append(DBID)  \\n                        listAllMatches.append([DBID,itemCT])\\n                        writer2.writerow([DBID, item, itemCT])\\n\\n        \\nprint(\"total matched records based on partial names\", len(listExactMatchPNames2_DBCT))\\nprint(\"total matched records based on partial names\", len(listExactMatchPNames2_DBID_DBCT))\\nprint(listExactMatchPNames2_DBID_DBCT[0])\\n'"
      ]
     },
     "execution_count": 114,
     "metadata": {},
     "output_type": "execute_result"
    }
   ],
   "source": [
    "#match based on partial name drugbank (like db:procainamide ct:procainamide hydrochloride)\n",
    "#this is not needed and might not eb correct of we go by partial names\n",
    "\n",
    "\n",
    "count=0\n",
    "listExactMatchPNames2_DBCT=[]\n",
    "listExactMatchPNames2_DBID_DBCT=[]\n",
    "'''\n",
    "with open(\"outmatches_names_partial_DB_CT.tsv\",'w') as outcsv2: \n",
    "    writer2=csv.writer(outcsv2,delimiter='\\t',quotechar='|',quoting=csv.QUOTE_MINIMAL,lineterminator='\\n') \n",
    "    for idx, item in enumerate(listNames_DB):\n",
    "        if item != 'nan' :\n",
    "        \n",
    "    \n",
    "            for itemCT in listNames_CT:\n",
    "                if itemCT != 'nan' :\n",
    "           \n",
    "                    if item in itemCT:\n",
    "                        listExactMatchPNames2_DBCT.append(item)\n",
    "                        DBID=listIds_DB[idx]\n",
    "                        listExactMatchPNames2_DBID_DBCT.append(DBID)  \n",
    "                        listAllMatches.append([DBID,itemCT])\n",
    "                        writer2.writerow([DBID, item, itemCT])\n",
    "\n",
    "        \n",
    "print(\"total matched records based on partial names\", len(listExactMatchPNames2_DBCT))\n",
    "print(\"total matched records based on partial names\", len(listExactMatchPNames2_DBID_DBCT))\n",
    "print(listExactMatchPNames2_DBID_DBCT[0])\n",
    "'''\n"
   ]
  },
  {
   "cell_type": "code",
   "execution_count": 136,
   "metadata": {},
   "outputs": [
    {
     "name": "stdout",
     "output_type": "stream",
     "text": [
      "listExactMatchNames_DBID_DBCT 4509\n",
      "listExactMatchSynonyms_DBID_DBCT 4508\n",
      "listExactMatchDescription_DBID_DBCT 6\n",
      "listExactMatchIntlBrands_DBID_DBCT 383\n",
      "listExactMatchSaltNames_DBID_DBCT 433\n",
      "listExactMatchProdNames_DBID_DBCT 81990\n",
      "unique matched= 83146\n",
      "DB00006\n",
      "non matching db compounds 12857\n",
      "non matching dbsalts 1844\n",
      "non matching dbprod 151097\n",
      "total non matching 165798\n"
     ]
    }
   ],
   "source": [
    "listAllMatchesUnique=[]\n",
    "print(\"listExactMatchNames_DBID_DBCT\", len(listExactMatchNames_DBID_DBCT))\n",
    "print(\"listExactMatchSynonyms_DBID_DBCT\", len(listExactMatchSynonyms_DBID_DBCT))\n",
    "print(\"listExactMatchDescription_DBID_DBCT\", len(listExactMatchDescription_DBID_DBCT))\n",
    "print(\"listExactMatchIntlBrands_DBID_DBCT\", len(listExactMatchIntlBrands_DBID_DBCT))\n",
    "\n",
    "\n",
    "#print(\"listExactMatchMixtures_DBID_DBCT\", len(listExactMatchMixtures_DBID_DBCT))\n",
    "print(\"listExactMatchSaltNames_DBID_DBCT\", len(listExactMatchSaltNames_DBID_DBCT))\n",
    "#print(\"listExactMatchPNames_DBID_DBCT\", len(listExactMatchPNames2_DBID_DBCT))\n",
    "print(\"listExactMatchProdNames_DBID_DBCT\", len(listExactMatchProdNames_DBID_DBCT))\n",
    "\n",
    "\n",
    "\n",
    "for item in listExactMatchNames_DBID_DBCT:    \n",
    "    listAllMatchesUnique.append(item)\n",
    "for item in listExactMatchSynonyms_DBID_DBCT:    \n",
    "    listAllMatchesUnique.append(item)   \n",
    "for item in listExactMatchDescription_DBID_DBCT:    \n",
    "    listAllMatchesUnique.append(item) \n",
    "for item in listExactMatchIntlBrands_DBID_DBCT:    \n",
    "    listAllMatchesUnique.append(item) \n",
    "    \n",
    "#for item in listExactMatchMixtures_DBID_DBCT:    \n",
    "    #listAllMatchesUnique.append(item)\n",
    "for item in listExactMatchSaltNames_DBID_DBCT:\n",
    "    listAllMatchesUnique.append(item)\n",
    "#for item in listExactMatchPNames2_DBID_DBCT:\n",
    "    #listAllMatchesUnique.append(item)\n",
    "for item in listExactMatchProdNames_DBID_DBCT:\n",
    "    listAllMatchesUnique.append(item)\n",
    "    \n",
    "print(\"unique matched=\", len(list(set(listAllMatchesUnique))))\n",
    "print(listAllMatchesUnique[0])\n",
    "listAllMatchesUnique=list(set(listAllMatchesUnique))\n",
    "listAllNonMatchesDB=[]\n",
    "\n",
    "for itemDB in listIds_DB:\n",
    "    if itemDB not in listAllMatchesUnique:\n",
    "            listAllNonMatchesDB.append(itemDB)    \n",
    "print(\"non matching db compounds\", len(listAllNonMatchesDB))\n",
    "\n",
    "countSaltnonMatching=0\n",
    "for itemSaltDB in listIdsSalt_DB:\n",
    "    if itemSaltDB not in listAllMatchesUnique:\n",
    "        countSaltnonMatching=countSaltnonMatching+1\n",
    "        listAllNonMatchesDB.append(itemSaltDB)          \n",
    "print(\"non matching dbsalts\", countSaltnonMatching)\n",
    "\n",
    "countProdnonMatching=0\n",
    "for itemProdDB in listIdsProd_DB:\n",
    "    if itemProdDB not in listAllMatchesUnique:\n",
    "        countProdnonMatching=countProdnonMatching+1\n",
    "        listAllNonMatchesDB.append(itemProdDB)    \n",
    "print(\"non matching dbprod\", countProdnonMatching)\n",
    "\n",
    "print(\"total non matching\", len(listAllNonMatchesDB))\n",
    "\n",
    "with open(\"DBAllMatchesoutfile.txt\", \"w\") as outfile:\n",
    "    outfile.write(\"\\n\".join(str(item) for item in listAllMatchesUnique))\n",
    "    \n",
    "\n"
   ]
  },
  {
   "cell_type": "code",
   "execution_count": 137,
   "metadata": {},
   "outputs": [
    {
     "name": "stdout",
     "output_type": "stream",
     "text": [
      "total dbcomp 13580\n",
      "total dbprod 233087\n",
      "total dbsalts 2277\n"
     ]
    }
   ],
   "source": [
    "print(\"total dbcomp\",len(listIds_DB))\n",
    "print(\"total dbprod\", len(listIdsProd_DB))\n",
    "print(\"total dbsalts\", len(listIdsSalt_DB))\n"
   ]
  },
  {
   "cell_type": "raw",
   "metadata": {},
   "source": []
  },
  {
   "cell_type": "code",
   "execution_count": 138,
   "metadata": {},
   "outputs": [
    {
     "name": "stdout",
     "output_type": "stream",
     "text": [
      "tot CTnames 16630\n",
      "non matched 4760\n"
     ]
    }
   ],
   "source": [
    "listAllMatchedCT=[]\n",
    "listAllNonMatchedCT=[]\n",
    "print(\"tot CTnames\", len(listNames_CT))\n",
    "for itemCT in listNames_CT:\n",
    "    if itemCT in listExactMatchNames_DBCT:\n",
    "        listAllMatchedCT.append(itemCT)\n",
    "    if itemCT in listExactMatchSynonyms_DBCT:\n",
    "        listAllMatchedCT.append(itemCT)\n",
    "    if itemCT in listExactMatchDescription_DBCT:\n",
    "        listAllMatchedCT.append(itemCT)\n",
    "    #if itemCT in listExactMatchMixtures_DBCT:\n",
    "        #listAllMatchedCT.append(itemCT)\n",
    "\n",
    "    \n",
    "for itemCT in listNames_CT:\n",
    "    if itemCT not in listAllMatchedCT:\n",
    "        listAllNonMatchedCT.append(itemCT)\n",
    "print(\"non matched\", len(list(set(listAllNonMatchedCT))))"
   ]
  },
  {
   "cell_type": "code",
   "execution_count": 139,
   "metadata": {},
   "outputs": [],
   "source": [
    "with open(\"CTNonMatchesoutfile.txt\", \"w\") as outfile:\n",
    "    outfile.write(\"\\n\".join(str(item) for item in listAllNonMatchedCT))"
   ]
  },
  {
   "cell_type": "code",
   "execution_count": 140,
   "metadata": {},
   "outputs": [],
   "source": [
    "with open(\"DBNonMatchesoutfile.txt\", \"w\") as outfile:\n",
    "    outfile.write(\"\\n\".join(str(item) for item in listAllNonMatchesDB))"
   ]
  },
  {
   "cell_type": "code",
   "execution_count": 141,
   "metadata": {},
   "outputs": [
    {
     "name": "stdout",
     "output_type": "stream",
     "text": [
      "#######\n"
     ]
    }
   ],
   "source": [
    "#######3##\n",
    "#below this are for trial id, identifiers base don matched names\n",
    "print(\"#######\")"
   ]
  },
  {
   "cell_type": "code",
   "execution_count": 121,
   "metadata": {},
   "outputs": [
    {
     "data": {
      "text/plain": [
       "'\\nwith open(\"CTAllNamesoutfile.txt\", \"w\") as outfile:\\n    outfile.write(\"\\n\".join(str(item) for item in listNames_CT))\\n    '"
      ]
     },
     "execution_count": 121,
     "metadata": {},
     "output_type": "execute_result"
    }
   ],
   "source": [
    "#tests\n",
    "'''\n",
    "with open(\"CTAllNamesoutfile.txt\", \"w\") as outfile:\n",
    "    outfile.write(\"\\n\".join(str(item) for item in listNames_CT))\n",
    "    '''"
   ]
  },
  {
   "cell_type": "code",
   "execution_count": 122,
   "metadata": {},
   "outputs": [],
   "source": [
    "#print(len(listAllMatches))"
   ]
  },
  {
   "cell_type": "code",
   "execution_count": 123,
   "metadata": {},
   "outputs": [],
   "source": [
    "#print(dfCT.columns)"
   ]
  },
  {
   "cell_type": "code",
   "execution_count": 124,
   "metadata": {},
   "outputs": [
    {
     "data": {
      "text/plain": [
       "'\\n#get org id and name\\n#prepdictname_org_CT\\ndictNameOrgCT={}\\nlistNameOrgCT=[]\\n\\n#dfCT =pd.read_csv(\\'/sas/vidhya/CompoundDb4jV2/ClinicalTrials/AllTables_CSV/fda_applications.csv\\',delimiter=\\',\\',encoding=\\'utf-8\\')\\n\\nprint(dfCT.columns[2]) #2=drug_ame\\nprint(\"total columns\", len(dfCT.columns))\\n\\nlistNames_CT=[]\\n\\nlistNamesMatching_CT=[]\\n#print(dfCT[dfCT.columns[2]][0])\\norgids=dfCT[dfCT.columns[1]].tolist()\\nprint(len(orgids))\\nprint(len(set(orgids)))\\n\\nfor idx, x in enumerate(dfCT[dfCT.columns[2]].tolist()):\\n    x=str(x)\\n    xnew = x.lower()\\n    if xnew !=\"\":\\n        dictNameOrgCT={}\\n        #print(orgids[idx])\\n        orgid=orgids[idx]\\n        dictNameOrgCT[xnew]= orgid\\n        listNameOrgCT.append(dictNameOrgCT)\\n    \\n    #break\\n\\n\\nprint(len(listNameOrgCT))\\n#print(dictNameOrgCT)\\n'"
      ]
     },
     "execution_count": 124,
     "metadata": {},
     "output_type": "execute_result"
    }
   ],
   "source": [
    "'''\n",
    "#get org id and name\n",
    "#prepdictname_org_CT\n",
    "dictNameOrgCT={}\n",
    "listNameOrgCT=[]\n",
    "\n",
    "#dfCT =pd.read_csv('/sas/vidhya/CompoundDb4jV2/ClinicalTrials/AllTables_CSV/fda_applications.csv',delimiter=',',encoding='utf-8')\n",
    "\n",
    "print(dfCT.columns[2]) #2=drug_ame\n",
    "print(\"total columns\", len(dfCT.columns))\n",
    "\n",
    "listNames_CT=[]\n",
    "\n",
    "listNamesMatching_CT=[]\n",
    "#print(dfCT[dfCT.columns[2]][0])\n",
    "orgids=dfCT[dfCT.columns[1]].tolist()\n",
    "print(len(orgids))\n",
    "print(len(set(orgids)))\n",
    "\n",
    "for idx, x in enumerate(dfCT[dfCT.columns[2]].tolist()):\n",
    "    x=str(x)\n",
    "    xnew = x.lower()\n",
    "    if xnew !=\"\":\n",
    "        dictNameOrgCT={}\n",
    "        #print(orgids[idx])\n",
    "        orgid=orgids[idx]\n",
    "        dictNameOrgCT[xnew]= orgid\n",
    "        listNameOrgCT.append(dictNameOrgCT)\n",
    "    \n",
    "    #break\n",
    "\n",
    "\n",
    "print(len(listNameOrgCT))\n",
    "#print(dictNameOrgCT)\n",
    "'''"
   ]
  },
  {
   "cell_type": "code",
   "execution_count": 125,
   "metadata": {},
   "outputs": [
    {
     "data": {
      "text/plain": [
       "'\\ndfCT_TrialOrg =pd.read_csv(\\'/sas/vidhya/CompoundDb4jV2/ClinicalTrials/AllTables_CSV/trials_organisations.csv\\',delimiter=\\',\\',encoding=\\'utf-8\\')\\n\\nprint(dfCT_TrialOrg.columns[0]) #2=drug_ame\\nprint(dfCT_TrialOrg.columns[1]) #2=drug_ame\\nprint(\"total columns\", len(dfCT_TrialOrg.columns))\\n\\n\\ntrialids_T=dfCT_TrialOrg[dfCT_TrialOrg.columns[0]].tolist()\\norgids_T=dfCT_TrialOrg[dfCT_TrialOrg.columns[1]].tolist()\\n\\nprint(len(trialids_T))\\nprint(len(set(trialids_T)))\\nlistTrialOrgCT=[]\\nfor idx, x in enumerate(trialids_T):\\n    \\n    if x !=\"\":\\n        dictNameTrialOrgCT={}\\n        #print(orgids[idx])\\n        orgid=orgids_T[idx]\\n        dictNameTrialOrgCT[x]= orgid\\n        listTrialOrgCT.append(dictNameTrialOrgCT)\\n    \\n    #break\\n\\n\\nprint(len(listTrialOrgCT))\\nprint(listTrialOrgCT[3])\\n'"
      ]
     },
     "execution_count": 125,
     "metadata": {},
     "output_type": "execute_result"
    }
   ],
   "source": [
    "#get org id and trial id\n",
    "#prepdictname_org_CT\n",
    "'''\n",
    "dfCT_TrialOrg =pd.read_csv('/sas/vidhya/CompoundDb4jV2/ClinicalTrials/AllTables_CSV/trials_organisations.csv',delimiter=',',encoding='utf-8')\n",
    "\n",
    "print(dfCT_TrialOrg.columns[0]) #2=drug_ame\n",
    "print(dfCT_TrialOrg.columns[1]) #2=drug_ame\n",
    "print(\"total columns\", len(dfCT_TrialOrg.columns))\n",
    "\n",
    "\n",
    "trialids_T=dfCT_TrialOrg[dfCT_TrialOrg.columns[0]].tolist()\n",
    "orgids_T=dfCT_TrialOrg[dfCT_TrialOrg.columns[1]].tolist()\n",
    "\n",
    "print(len(trialids_T))\n",
    "print(len(set(trialids_T)))\n",
    "listTrialOrgCT=[]\n",
    "for idx, x in enumerate(trialids_T):\n",
    "    \n",
    "    if x !=\"\":\n",
    "        dictNameTrialOrgCT={}\n",
    "        #print(orgids[idx])\n",
    "        orgid=orgids_T[idx]\n",
    "        dictNameTrialOrgCT[x]= orgid\n",
    "        listTrialOrgCT.append(dictNameTrialOrgCT)\n",
    "    \n",
    "    #break\n",
    "\n",
    "\n",
    "print(len(listTrialOrgCT))\n",
    "print(listTrialOrgCT[3])\n",
    "'''"
   ]
  },
  {
   "cell_type": "code",
   "execution_count": 126,
   "metadata": {},
   "outputs": [
    {
     "data": {
      "text/plain": [
       "'\\nlistAllMatchesWithTrials=[]\\nfor i in listAllMatches:   \\n    nameCT= i[1].strip()    \\n    \\n    #find its org id     \\n    listTrialids=[]\\n    stid=\"\"\\n    #print(len(listNameOrgCT))\\n    for dictNameOrg in listNameOrgCT:\\n        #print(\"in1)\")\\n        for kNameOrg,vNameOrg in dictNameOrg.items():\\n            #print(kNameOrg)\\n            if nameCT == kNameOrg.lower():\\n                orgId=vNameOrg\\n                #find trials for this orgId\\n                for dictTrialOrg in listTrialOrgCT:\\n                    for kTrialOrg,vTrialOrg in dictTrialOrg.items():\\n                        if orgId == vTrialOrg:\\n                            #print(kTrialOrg)\\n                            listTrialids.append(kTrialOrg)\\n                            stid= stid + \",\"+ kTrialOrg\\n    \\n    listAllMatchesWithTrials.append([i[0],i[1],stid])\\n        #break\\n    #break\\n    \\nprint(len(listAllMatchesWithTrials))\\n'"
      ]
     },
     "execution_count": 126,
     "metadata": {},
     "output_type": "execute_result"
    }
   ],
   "source": [
    "'''\n",
    "listAllMatchesWithTrials=[]\n",
    "for i in listAllMatches:   \n",
    "    nameCT= i[1].strip()    \n",
    "    \n",
    "    #find its org id     \n",
    "    listTrialids=[]\n",
    "    stid=\"\"\n",
    "    #print(len(listNameOrgCT))\n",
    "    for dictNameOrg in listNameOrgCT:\n",
    "        #print(\"in1)\")\n",
    "        for kNameOrg,vNameOrg in dictNameOrg.items():\n",
    "            #print(kNameOrg)\n",
    "            if nameCT == kNameOrg.lower():\n",
    "                orgId=vNameOrg\n",
    "                #find trials for this orgId\n",
    "                for dictTrialOrg in listTrialOrgCT:\n",
    "                    for kTrialOrg,vTrialOrg in dictTrialOrg.items():\n",
    "                        if orgId == vTrialOrg:\n",
    "                            #print(kTrialOrg)\n",
    "                            listTrialids.append(kTrialOrg)\n",
    "                            stid= stid + \",\"+ kTrialOrg\n",
    "    \n",
    "    listAllMatchesWithTrials.append([i[0],i[1],stid])\n",
    "        #break\n",
    "    #break\n",
    "    \n",
    "print(len(listAllMatchesWithTrials))\n",
    "'''"
   ]
  },
  {
   "cell_type": "code",
   "execution_count": 127,
   "metadata": {},
   "outputs": [],
   "source": [
    "#print(listAllMatchesWithTrials[0])"
   ]
  },
  {
   "cell_type": "code",
   "execution_count": 128,
   "metadata": {},
   "outputs": [
    {
     "data": {
      "text/plain": [
       "'\\ndfCT_TrialaAll =pd.read_csv(\\'/sas/vidhya/CompoundDb4jV2/ClinicalTrials/AllTables_CSV/trials.csv\\',delimiter=\\',\\',encoding=\\'utf-8\\')\\n\\nprint(dfCT_TrialaAll.columns[0]) #0=trial id\\nprint(dfCT_TrialaAll.columns[1]) #1=identifier id\\nprint(\"total columns\", len(dfCT_TrialaAll.columns))\\n\\n\\ntrials_All=dfCT_TrialaAll[dfCT_TrialaAll.columns[0]].tolist()\\nidentifiers_All=dfCT_TrialaAll[dfCT_TrialaAll.columns[1]].tolist()\\n\\nprint(len(trials_All))\\nprint(len(set(trials_All)))\\nprint(len(identifiers_All))\\n\\nlistTrialIdCT=[]\\nfor idx, x in enumerate(trials_All):\\n    \\n    if x !=\"\":\\n        dictTrialidCT={}\\n        #print(orgids[idx])\\n        iid=identifiers_All[idx]\\n        dictTrialidCT[x]= iid\\n        listTrialIdCT.append(dictTrialidCT)\\n    \\n    #break\\n\\n\\nprint(len(listTrialIdCT))\\nprint(listTrialOrgCT[0])\\n'"
      ]
     },
     "execution_count": 128,
     "metadata": {},
     "output_type": "execute_result"
    }
   ],
   "source": [
    "#get trial id, identifier id\n",
    "#prep dict trial_identifier_CT\n",
    "'''\n",
    "dfCT_TrialaAll =pd.read_csv('/sas/vidhya/CompoundDb4jV2/ClinicalTrials/AllTables_CSV/trials.csv',delimiter=',',encoding='utf-8')\n",
    "\n",
    "print(dfCT_TrialaAll.columns[0]) #0=trial id\n",
    "print(dfCT_TrialaAll.columns[1]) #1=identifier id\n",
    "print(\"total columns\", len(dfCT_TrialaAll.columns))\n",
    "\n",
    "\n",
    "trials_All=dfCT_TrialaAll[dfCT_TrialaAll.columns[0]].tolist()\n",
    "identifiers_All=dfCT_TrialaAll[dfCT_TrialaAll.columns[1]].tolist()\n",
    "\n",
    "print(len(trials_All))\n",
    "print(len(set(trials_All)))\n",
    "print(len(identifiers_All))\n",
    "\n",
    "listTrialIdCT=[]\n",
    "for idx, x in enumerate(trials_All):\n",
    "    \n",
    "    if x !=\"\":\n",
    "        dictTrialidCT={}\n",
    "        #print(orgids[idx])\n",
    "        iid=identifiers_All[idx]\n",
    "        dictTrialidCT[x]= iid\n",
    "        listTrialIdCT.append(dictTrialidCT)\n",
    "    \n",
    "    #break\n",
    "\n",
    "\n",
    "print(len(listTrialIdCT))\n",
    "print(listTrialOrgCT[0])\n",
    "'''"
   ]
  },
  {
   "cell_type": "code",
   "execution_count": 129,
   "metadata": {},
   "outputs": [],
   "source": [
    "#print(listTrialIdCT[0])"
   ]
  },
  {
   "cell_type": "code",
   "execution_count": 130,
   "metadata": {},
   "outputs": [
    {
     "data": {
      "text/plain": [
       "'\\nlistAllMatchesWithTrials_Identifers=[]\\nfor i in listAllMatches:   \\n    nameCT= i[1].strip()    \\n    \\n    #find its org id     \\n    #listTrialids=[]\\n    stid=\"\"\\n    stidentfier=\"\"\\n    #print(len(listNameOrgCT))\\n    for dictNameOrg in listNameOrgCT:\\n        #print(\"in1)\")\\n        for kNameOrg,vNameOrg in dictNameOrg.items():\\n            #print(kNameOrg)\\n            if nameCT == kNameOrg.lower():\\n                orgId=vNameOrg\\n                #find trials for this orgId\\n                for dictTrialOrg in listTrialOrgCT:\\n                    for kTrialOrg,vTrialOrg in dictTrialOrg.items():\\n                        if orgId == vTrialOrg:\\n                            #print(kTrialOrg)\\n                            #listTrialids.append(kTrialOrg)\\n                            stid= stid + \",\"+ kTrialOrg\\n                            \\n                            for dictTrialsIDs in listTrialIdCT:\\n                                for ktrialid,vid in dictTrialsIDs.items():\\n                                    if kTrialOrg == ktrialid:\\n                                        stidentfier= stidentfier + \",\"+ vid\\n                                    \\n                                    \\n    \\n    listAllMatchesWithTrials_Identifers.append([i[0],i[1],stid, stidentfier])\\n        #break\\n    #break\\n    \\nprint(len(listAllMatchesWithTrials_Identifers))\\nprint(listAllMatchesWithTrials_Identifers[0])\\n'"
      ]
     },
     "execution_count": 130,
     "metadata": {},
     "output_type": "execute_result"
    }
   ],
   "source": [
    "'''\n",
    "listAllMatchesWithTrials_Identifers=[]\n",
    "for i in listAllMatches:   \n",
    "    nameCT= i[1].strip()    \n",
    "    \n",
    "    #find its org id     \n",
    "    #listTrialids=[]\n",
    "    stid=\"\"\n",
    "    stidentfier=\"\"\n",
    "    #print(len(listNameOrgCT))\n",
    "    for dictNameOrg in listNameOrgCT:\n",
    "        #print(\"in1)\")\n",
    "        for kNameOrg,vNameOrg in dictNameOrg.items():\n",
    "            #print(kNameOrg)\n",
    "            if nameCT == kNameOrg.lower():\n",
    "                orgId=vNameOrg\n",
    "                #find trials for this orgId\n",
    "                for dictTrialOrg in listTrialOrgCT:\n",
    "                    for kTrialOrg,vTrialOrg in dictTrialOrg.items():\n",
    "                        if orgId == vTrialOrg:\n",
    "                            #print(kTrialOrg)\n",
    "                            #listTrialids.append(kTrialOrg)\n",
    "                            stid= stid + \",\"+ kTrialOrg\n",
    "                            \n",
    "                            for dictTrialsIDs in listTrialIdCT:\n",
    "                                for ktrialid,vid in dictTrialsIDs.items():\n",
    "                                    if kTrialOrg == ktrialid:\n",
    "                                        stidentfier= stidentfier + \",\"+ vid\n",
    "                                    \n",
    "                                    \n",
    "    \n",
    "    listAllMatchesWithTrials_Identifers.append([i[0],i[1],stid, stidentfier])\n",
    "        #break\n",
    "    #break\n",
    "    \n",
    "print(len(listAllMatchesWithTrials_Identifers))\n",
    "print(listAllMatchesWithTrials_Identifers[0])\n",
    "'''"
   ]
  },
  {
   "cell_type": "code",
   "execution_count": 131,
   "metadata": {},
   "outputs": [
    {
     "data": {
      "text/plain": [
       "'\\nimport csv\\n#my_dict=dictmatches\\nwith open(\"matches_db_ct_identifiers.csv\", \"w\", newline=\"\") as f:\\n    writer = csv.writer(f)\\n    writer.writerows(listAllMatchesWithTrials_Identifers)\\nprint(\"done\")\\n'"
      ]
     },
     "execution_count": 131,
     "metadata": {},
     "output_type": "execute_result"
    }
   ],
   "source": [
    "#write all matches dict to csv\n",
    "'''\n",
    "import csv\n",
    "#my_dict=dictmatches\n",
    "with open(\"matches_db_ct_identifiers.csv\", \"w\", newline=\"\") as f:\n",
    "    writer = csv.writer(f)\n",
    "    writer.writerows(listAllMatchesWithTrials_Identifers)\n",
    "print(\"done\")\n",
    "'''"
   ]
  },
  {
   "cell_type": "code",
   "execution_count": 132,
   "metadata": {},
   "outputs": [
    {
     "name": "stdout",
     "output_type": "stream",
     "text": [
      "end time 2020-10-19 23:46:39.297608+05:30\n",
      "---------------------------------\n"
     ]
    }
   ],
   "source": [
    "from datetime import datetime \n",
    "import pytz \n",
    "  \n",
    "IST = pytz.timezone('Asia/Kolkata') \n",
    "print(\"end time\", datetime.now(IST)) \n",
    "print(\"---------------------------------\")\n",
    "  "
   ]
  },
  {
   "cell_type": "code",
   "execution_count": null,
   "metadata": {},
   "outputs": [],
   "source": []
  }
 ],
 "metadata": {
  "kernelspec": {
   "display_name": "myenvclin",
   "language": "python",
   "name": "myenvclin"
  },
  "language_info": {
   "codemirror_mode": {
    "name": "ipython",
    "version": 3
   },
   "file_extension": ".py",
   "mimetype": "text/x-python",
   "name": "python",
   "nbconvert_exporter": "python",
   "pygments_lexer": "ipython3",
   "version": "3.8.3"
  }
 },
 "nbformat": 4,
 "nbformat_minor": 4
}
